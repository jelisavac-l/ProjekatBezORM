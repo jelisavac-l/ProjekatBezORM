{
 "cells": [
  {
   "cell_type": "markdown",
   "id": "e33f6a56-20a6-41f0-b93c-283d03391919",
   "metadata": {},
   "source": [
    "# Reformatiranje šifrarnika delatnosti\n",
    "Kojeg sam iskusno marnuo od APR-a"
   ]
  },
  {
   "cell_type": "code",
   "execution_count": 3,
   "id": "af9241fe-14ea-4598-9fdf-e1156304c742",
   "metadata": {},
   "outputs": [],
   "source": [
    "import pandas as pd\n",
    "df = pd.read_csv('sifrarnik.csv')"
   ]
  },
  {
   "cell_type": "code",
   "execution_count": 7,
   "id": "fe6758c7-49d0-456c-866e-e6950f340b12",
   "metadata": {},
   "outputs": [
    {
     "data": {
      "text/html": [
       "<div>\n",
       "<style scoped>\n",
       "    .dataframe tbody tr th:only-of-type {\n",
       "        vertical-align: middle;\n",
       "    }\n",
       "\n",
       "    .dataframe tbody tr th {\n",
       "        vertical-align: top;\n",
       "    }\n",
       "\n",
       "    .dataframe thead th {\n",
       "        text-align: right;\n",
       "    }\n",
       "</style>\n",
       "<table border=\"1\" class=\"dataframe\">\n",
       "  <thead>\n",
       "    <tr style=\"text-align: right;\">\n",
       "      <th></th>\n",
       "      <th>ŠIFRA</th>\n",
       "      <th>NAZIV</th>\n",
       "    </tr>\n",
       "  </thead>\n",
       "  <tbody>\n",
       "    <tr>\n",
       "      <th>0</th>\n",
       "      <td>A</td>\n",
       "      <td>POLjOPRIVREDA, ŠUMARSTVO I RIBARSTVO</td>\n",
       "    </tr>\n",
       "    <tr>\n",
       "      <th>1</th>\n",
       "      <td>01</td>\n",
       "      <td>Poljoprivredna proizvodnja, lov i prateće uslu...</td>\n",
       "    </tr>\n",
       "    <tr>\n",
       "      <th>2</th>\n",
       "      <td>011</td>\n",
       "      <td>Gajenje jednogodišnjih i dvogodišnjih biljaka</td>\n",
       "    </tr>\n",
       "    <tr>\n",
       "      <th>3</th>\n",
       "      <td>0111</td>\n",
       "      <td>Gajenje žita (osim pirinča), leguminoza i ulja...</td>\n",
       "    </tr>\n",
       "    <tr>\n",
       "      <th>4</th>\n",
       "      <td>0112</td>\n",
       "      <td>Gajenje pirinča</td>\n",
       "    </tr>\n",
       "    <tr>\n",
       "      <th>5</th>\n",
       "      <td>0113</td>\n",
       "      <td>Gajenje povrća, bostana, korenastih i krtolast...</td>\n",
       "    </tr>\n",
       "    <tr>\n",
       "      <th>6</th>\n",
       "      <td>0114</td>\n",
       "      <td>Gajenje šećerne trske</td>\n",
       "    </tr>\n",
       "    <tr>\n",
       "      <th>7</th>\n",
       "      <td>0115</td>\n",
       "      <td>Gajenje duvana</td>\n",
       "    </tr>\n",
       "    <tr>\n",
       "      <th>8</th>\n",
       "      <td>0116</td>\n",
       "      <td>Gajenje biljaka za proizvodnju vlakana</td>\n",
       "    </tr>\n",
       "    <tr>\n",
       "      <th>9</th>\n",
       "      <td>0119</td>\n",
       "      <td>Gajenje ostalih jednogodišnjih i dvogodišnjih ...</td>\n",
       "    </tr>\n",
       "  </tbody>\n",
       "</table>\n",
       "</div>"
      ],
      "text/plain": [
       "  ŠIFRA                                              NAZIV\n",
       "0     A               POLjOPRIVREDA, ŠUMARSTVO I RIBARSTVO\n",
       "1    01  Poljoprivredna proizvodnja, lov i prateće uslu...\n",
       "2   011      Gajenje jednogodišnjih i dvogodišnjih biljaka\n",
       "3  0111  Gajenje žita (osim pirinča), leguminoza i ulja...\n",
       "4  0112                                    Gajenje pirinča\n",
       "5  0113  Gajenje povrća, bostana, korenastih i krtolast...\n",
       "6  0114                              Gajenje šećerne trske\n",
       "7  0115                                     Gajenje duvana\n",
       "8  0116             Gajenje biljaka za proizvodnju vlakana\n",
       "9  0119  Gajenje ostalih jednogodišnjih i dvogodišnjih ..."
      ]
     },
     "execution_count": 7,
     "metadata": {},
     "output_type": "execute_result"
    }
   ],
   "source": [
    "df.head(10)"
   ]
  },
  {
   "cell_type": "markdown",
   "id": "3d6ef979-5a1f-4ec5-b3ff-2e8a7a7ba888",
   "metadata": {},
   "source": [
    "Promenjeni nazivi na latinicu jer će na latinici ceo program biti pisan, sad brišem ove naslove sekcija (tamo gde je šifra slovo)"
   ]
  },
  {
   "cell_type": "code",
   "execution_count": 10,
   "id": "729e2fd4-8a53-4a17-b427-e3a7a7ff3428",
   "metadata": {},
   "outputs": [],
   "source": [
    "df.ŠIFRA = df.ŠIFRA.astype(str)\n",
    "mask = ~df.ŠIFRA.str.isalpha()\n",
    "filtered_df = df[mask]"
   ]
  },
  {
   "cell_type": "code",
   "execution_count": 11,
   "id": "e0c509d9-8b7d-4f87-89a2-0fbb9bd2a9eb",
   "metadata": {},
   "outputs": [
    {
     "data": {
      "text/html": [
       "<div>\n",
       "<style scoped>\n",
       "    .dataframe tbody tr th:only-of-type {\n",
       "        vertical-align: middle;\n",
       "    }\n",
       "\n",
       "    .dataframe tbody tr th {\n",
       "        vertical-align: top;\n",
       "    }\n",
       "\n",
       "    .dataframe thead th {\n",
       "        text-align: right;\n",
       "    }\n",
       "</style>\n",
       "<table border=\"1\" class=\"dataframe\">\n",
       "  <thead>\n",
       "    <tr style=\"text-align: right;\">\n",
       "      <th></th>\n",
       "      <th>ŠIFRA</th>\n",
       "      <th>NAZIV</th>\n",
       "    </tr>\n",
       "  </thead>\n",
       "  <tbody>\n",
       "    <tr>\n",
       "      <th>1</th>\n",
       "      <td>01</td>\n",
       "      <td>Poljoprivredna proizvodnja, lov i prateće uslu...</td>\n",
       "    </tr>\n",
       "    <tr>\n",
       "      <th>2</th>\n",
       "      <td>011</td>\n",
       "      <td>Gajenje jednogodišnjih i dvogodišnjih biljaka</td>\n",
       "    </tr>\n",
       "    <tr>\n",
       "      <th>3</th>\n",
       "      <td>0111</td>\n",
       "      <td>Gajenje žita (osim pirinča), leguminoza i ulja...</td>\n",
       "    </tr>\n",
       "    <tr>\n",
       "      <th>4</th>\n",
       "      <td>0112</td>\n",
       "      <td>Gajenje pirinča</td>\n",
       "    </tr>\n",
       "    <tr>\n",
       "      <th>5</th>\n",
       "      <td>0113</td>\n",
       "      <td>Gajenje povrća, bostana, korenastih i krtolast...</td>\n",
       "    </tr>\n",
       "    <tr>\n",
       "      <th>6</th>\n",
       "      <td>0114</td>\n",
       "      <td>Gajenje šećerne trske</td>\n",
       "    </tr>\n",
       "    <tr>\n",
       "      <th>7</th>\n",
       "      <td>0115</td>\n",
       "      <td>Gajenje duvana</td>\n",
       "    </tr>\n",
       "    <tr>\n",
       "      <th>8</th>\n",
       "      <td>0116</td>\n",
       "      <td>Gajenje biljaka za proizvodnju vlakana</td>\n",
       "    </tr>\n",
       "    <tr>\n",
       "      <th>9</th>\n",
       "      <td>0119</td>\n",
       "      <td>Gajenje ostalih jednogodišnjih i dvogodišnjih ...</td>\n",
       "    </tr>\n",
       "    <tr>\n",
       "      <th>10</th>\n",
       "      <td>012</td>\n",
       "      <td>Gajenje višegodišnjih biljaka</td>\n",
       "    </tr>\n",
       "  </tbody>\n",
       "</table>\n",
       "</div>"
      ],
      "text/plain": [
       "   ŠIFRA                                              NAZIV\n",
       "1     01  Poljoprivredna proizvodnja, lov i prateće uslu...\n",
       "2    011      Gajenje jednogodišnjih i dvogodišnjih biljaka\n",
       "3   0111  Gajenje žita (osim pirinča), leguminoza i ulja...\n",
       "4   0112                                    Gajenje pirinča\n",
       "5   0113  Gajenje povrća, bostana, korenastih i krtolast...\n",
       "6   0114                              Gajenje šećerne trske\n",
       "7   0115                                     Gajenje duvana\n",
       "8   0116             Gajenje biljaka za proizvodnju vlakana\n",
       "9   0119  Gajenje ostalih jednogodišnjih i dvogodišnjih ...\n",
       "10   012                      Gajenje višegodišnjih biljaka"
      ]
     },
     "execution_count": 11,
     "metadata": {},
     "output_type": "execute_result"
    }
   ],
   "source": [
    "filtered_df.head(10)"
   ]
  },
  {
   "cell_type": "code",
   "execution_count": 12,
   "id": "5454e9c1-e14e-4396-a8a0-7d90d77698f4",
   "metadata": {},
   "outputs": [],
   "source": [
    "filtered_df.to_csv('fSifrarnik.csv')"
   ]
  }
 ],
 "metadata": {
  "kernelspec": {
   "display_name": "Python 3 (ipykernel)",
   "language": "python",
   "name": "python3"
  },
  "language_info": {
   "codemirror_mode": {
    "name": "ipython",
    "version": 3
   },
   "file_extension": ".py",
   "mimetype": "text/x-python",
   "name": "python",
   "nbconvert_exporter": "python",
   "pygments_lexer": "ipython3",
   "version": "3.12.3"
  }
 },
 "nbformat": 4,
 "nbformat_minor": 5
}
